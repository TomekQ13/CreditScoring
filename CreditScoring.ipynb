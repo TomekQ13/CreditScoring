{
 "cells": [
  {
   "cell_type": "code",
   "execution_count": 86,
   "metadata": {},
   "outputs": [],
   "source": [
    "import pandas as pd\n",
    "import numpy as np\n",
    "import matplotlib.pyplot as plt\n",
    "\n",
    "from sklearn.linear_model import LogisticRegression\n",
    "from sklearn.model_selection import train_test_split\n",
    "from sklearn.impute import SimpleImputer\n",
    "from sklearn.preprocessing import StandardScaler, OneHotEncoder\n",
    "from sklearn.compose import make_column_transformer\n",
    "from sklearn.compose import ColumnTransformer\n",
    "\n",
    "from sklearn.metrics import confusion_matrix as cm\n",
    "from sklearn.model_selection import cross_val_score\n",
    "\n",
    "from sklearn.pipeline import make_pipeline\n",
    "from sklearn.pipeline import Pipeline\n",
    "\n",
    "import xgboost as xgb\n",
    "import graphviz"
   ]
  },
  {
   "cell_type": "code",
   "execution_count": 3,
   "metadata": {},
   "outputs": [],
   "source": [
    "production = pd.read_sas('C:/Users/kucza/OneDrive/Desktop/DataScience/CreditScoringPython/dane/production.sas7bdat',\n",
    "                        format = 'sas7bdat',\n",
    "                         encoding=\"ISO-8859-1\" )\n",
    "transactions = pd.read_sas('C:/Users/kucza/OneDrive/Desktop/DataScience/CreditScoringPython/dane/transactions.sas7bdat',\n",
    "                        format = 'sas7bdat',\n",
    "                         encoding=\"ISO-8859-1\" )"
   ]
  },
  {
   "cell_type": "code",
   "execution_count": 3,
   "metadata": {},
   "outputs": [
    {
     "data": {
      "text/html": [
       "<div>\n",
       "<style scoped>\n",
       "    .dataframe tbody tr th:only-of-type {\n",
       "        vertical-align: middle;\n",
       "    }\n",
       "\n",
       "    .dataframe tbody tr th {\n",
       "        vertical-align: top;\n",
       "    }\n",
       "\n",
       "    .dataframe thead th {\n",
       "        text-align: right;\n",
       "    }\n",
       "</style>\n",
       "<table border=\"1\" class=\"dataframe\">\n",
       "  <thead>\n",
       "    <tr style=\"text-align: right;\">\n",
       "      <th></th>\n",
       "      <th>cid</th>\n",
       "      <th>aid</th>\n",
       "      <th>product</th>\n",
       "      <th>period</th>\n",
       "      <th>act_age</th>\n",
       "      <th>act_cc</th>\n",
       "      <th>act_loaninc</th>\n",
       "      <th>app_income</th>\n",
       "      <th>app_loan_amount</th>\n",
       "      <th>app_n_installments</th>\n",
       "      <th>...</th>\n",
       "      <th>act_CIns_All5y</th>\n",
       "      <th>act_CAll_Acp5y</th>\n",
       "      <th>act_CAll_All5y</th>\n",
       "      <th>APP_CHAR_GENDER</th>\n",
       "      <th>APP_CHAR_CITY</th>\n",
       "      <th>APP_CHAR_BRANCH</th>\n",
       "      <th>APP_CHAR_JOB_CODE</th>\n",
       "      <th>APP_CHAR_CARS</th>\n",
       "      <th>APP_CHAR_HOME_STATUS</th>\n",
       "      <th>APP_CHAR_MARITAL_STATUS</th>\n",
       "    </tr>\n",
       "  </thead>\n",
       "  <tbody>\n",
       "    <tr>\n",
       "      <td>0</td>\n",
       "      <td>0000001237</td>\n",
       "      <td>css2006010100123</td>\n",
       "      <td>css</td>\n",
       "      <td>200601</td>\n",
       "      <td>84.0</td>\n",
       "      <td>0.577685</td>\n",
       "      <td>2.606882</td>\n",
       "      <td>1918.0</td>\n",
       "      <td>5000.0</td>\n",
       "      <td>24.0</td>\n",
       "      <td>...</td>\n",
       "      <td>1.0</td>\n",
       "      <td>7.0</td>\n",
       "      <td>15.0</td>\n",
       "      <td>1.0</td>\n",
       "      <td>0.0</td>\n",
       "      <td>0.0</td>\n",
       "      <td>4.0</td>\n",
       "      <td>1.0</td>\n",
       "      <td>0.0</td>\n",
       "      <td>2.0</td>\n",
       "    </tr>\n",
       "    <tr>\n",
       "      <td>1</td>\n",
       "      <td>0000003380</td>\n",
       "      <td>css2006010100350</td>\n",
       "      <td>css</td>\n",
       "      <td>200601</td>\n",
       "      <td>87.0</td>\n",
       "      <td>0.499747</td>\n",
       "      <td>2.529084</td>\n",
       "      <td>1977.0</td>\n",
       "      <td>5000.0</td>\n",
       "      <td>24.0</td>\n",
       "      <td>...</td>\n",
       "      <td>NaN</td>\n",
       "      <td>14.0</td>\n",
       "      <td>15.0</td>\n",
       "      <td>1.0</td>\n",
       "      <td>3.0</td>\n",
       "      <td>0.0</td>\n",
       "      <td>4.0</td>\n",
       "      <td>0.0</td>\n",
       "      <td>0.0</td>\n",
       "      <td>1.0</td>\n",
       "    </tr>\n",
       "    <tr>\n",
       "      <td>2</td>\n",
       "      <td>0000003467</td>\n",
       "      <td>css2006010100357</td>\n",
       "      <td>css</td>\n",
       "      <td>200601</td>\n",
       "      <td>75.0</td>\n",
       "      <td>0.584158</td>\n",
       "      <td>4.125413</td>\n",
       "      <td>1212.0</td>\n",
       "      <td>5000.0</td>\n",
       "      <td>24.0</td>\n",
       "      <td>...</td>\n",
       "      <td>1.0</td>\n",
       "      <td>16.0</td>\n",
       "      <td>16.0</td>\n",
       "      <td>1.0</td>\n",
       "      <td>1.0</td>\n",
       "      <td>0.0</td>\n",
       "      <td>4.0</td>\n",
       "      <td>1.0</td>\n",
       "      <td>0.0</td>\n",
       "      <td>1.0</td>\n",
       "    </tr>\n",
       "    <tr>\n",
       "      <td>3</td>\n",
       "      <td>0000003620</td>\n",
       "      <td>css2006010100367</td>\n",
       "      <td>css</td>\n",
       "      <td>200601</td>\n",
       "      <td>94.0</td>\n",
       "      <td>0.602687</td>\n",
       "      <td>4.798464</td>\n",
       "      <td>1042.0</td>\n",
       "      <td>5000.0</td>\n",
       "      <td>24.0</td>\n",
       "      <td>...</td>\n",
       "      <td>NaN</td>\n",
       "      <td>14.0</td>\n",
       "      <td>15.0</td>\n",
       "      <td>1.0</td>\n",
       "      <td>0.0</td>\n",
       "      <td>0.0</td>\n",
       "      <td>4.0</td>\n",
       "      <td>1.0</td>\n",
       "      <td>0.0</td>\n",
       "      <td>0.0</td>\n",
       "    </tr>\n",
       "    <tr>\n",
       "      <td>4</td>\n",
       "      <td>0000003621</td>\n",
       "      <td>css2006010100368</td>\n",
       "      <td>css</td>\n",
       "      <td>200601</td>\n",
       "      <td>70.0</td>\n",
       "      <td>0.604592</td>\n",
       "      <td>3.188776</td>\n",
       "      <td>1568.0</td>\n",
       "      <td>5000.0</td>\n",
       "      <td>24.0</td>\n",
       "      <td>...</td>\n",
       "      <td>NaN</td>\n",
       "      <td>15.0</td>\n",
       "      <td>15.0</td>\n",
       "      <td>1.0</td>\n",
       "      <td>0.0</td>\n",
       "      <td>0.0</td>\n",
       "      <td>4.0</td>\n",
       "      <td>1.0</td>\n",
       "      <td>0.0</td>\n",
       "      <td>1.0</td>\n",
       "    </tr>\n",
       "  </tbody>\n",
       "</table>\n",
       "<p>5 rows × 223 columns</p>\n",
       "</div>"
      ],
      "text/plain": [
       "          cid               aid product  period  act_age    act_cc  \\\n",
       "0  0000001237  css2006010100123     css  200601     84.0  0.577685   \n",
       "1  0000003380  css2006010100350     css  200601     87.0  0.499747   \n",
       "2  0000003467  css2006010100357     css  200601     75.0  0.584158   \n",
       "3  0000003620  css2006010100367     css  200601     94.0  0.602687   \n",
       "4  0000003621  css2006010100368     css  200601     70.0  0.604592   \n",
       "\n",
       "   act_loaninc  app_income  app_loan_amount  app_n_installments  ...  \\\n",
       "0     2.606882      1918.0           5000.0                24.0  ...   \n",
       "1     2.529084      1977.0           5000.0                24.0  ...   \n",
       "2     4.125413      1212.0           5000.0                24.0  ...   \n",
       "3     4.798464      1042.0           5000.0                24.0  ...   \n",
       "4     3.188776      1568.0           5000.0                24.0  ...   \n",
       "\n",
       "   act_CIns_All5y  act_CAll_Acp5y  act_CAll_All5y  APP_CHAR_GENDER  \\\n",
       "0             1.0             7.0            15.0              1.0   \n",
       "1             NaN            14.0            15.0              1.0   \n",
       "2             1.0            16.0            16.0              1.0   \n",
       "3             NaN            14.0            15.0              1.0   \n",
       "4             NaN            15.0            15.0              1.0   \n",
       "\n",
       "   APP_CHAR_CITY  APP_CHAR_BRANCH  APP_CHAR_JOB_CODE  APP_CHAR_CARS  \\\n",
       "0            0.0              0.0                4.0            1.0   \n",
       "1            3.0              0.0                4.0            0.0   \n",
       "2            1.0              0.0                4.0            1.0   \n",
       "3            0.0              0.0                4.0            1.0   \n",
       "4            0.0              0.0                4.0            1.0   \n",
       "\n",
       "   APP_CHAR_HOME_STATUS  APP_CHAR_MARITAL_STATUS  \n",
       "0                   0.0                      2.0  \n",
       "1                   0.0                      1.0  \n",
       "2                   0.0                      1.0  \n",
       "3                   0.0                      0.0  \n",
       "4                   0.0                      1.0  \n",
       "\n",
       "[5 rows x 223 columns]"
      ]
     },
     "execution_count": 3,
     "metadata": {},
     "output_type": "execute_result"
    }
   ],
   "source": [
    "production.head()"
   ]
  },
  {
   "cell_type": "code",
   "execution_count": 31,
   "metadata": {},
   "outputs": [
    {
     "data": {
      "text/html": [
       "<div>\n",
       "<style scoped>\n",
       "    .dataframe tbody tr th:only-of-type {\n",
       "        vertical-align: middle;\n",
       "    }\n",
       "\n",
       "    .dataframe tbody tr th {\n",
       "        vertical-align: top;\n",
       "    }\n",
       "\n",
       "    .dataframe thead th {\n",
       "        text-align: right;\n",
       "    }\n",
       "</style>\n",
       "<table border=\"1\" class=\"dataframe\">\n",
       "  <thead>\n",
       "    <tr style=\"text-align: right;\">\n",
       "      <th></th>\n",
       "      <th>cid</th>\n",
       "      <th>aid</th>\n",
       "      <th>product</th>\n",
       "      <th>period</th>\n",
       "      <th>fin_period</th>\n",
       "      <th>status</th>\n",
       "      <th>due_installments</th>\n",
       "      <th>paid_installments</th>\n",
       "      <th>leftn_installments</th>\n",
       "    </tr>\n",
       "  </thead>\n",
       "  <tbody>\n",
       "    <tr>\n",
       "      <td>0</td>\n",
       "      <td>0000000002</td>\n",
       "      <td>css2006010500001</td>\n",
       "      <td>css</td>\n",
       "      <td>200601</td>\n",
       "      <td>200601</td>\n",
       "      <td>A</td>\n",
       "      <td>0.0</td>\n",
       "      <td>0.0</td>\n",
       "      <td>24.0</td>\n",
       "    </tr>\n",
       "    <tr>\n",
       "      <td>1</td>\n",
       "      <td>0000000002</td>\n",
       "      <td>css2006010500001</td>\n",
       "      <td>css</td>\n",
       "      <td>200602</td>\n",
       "      <td>200601</td>\n",
       "      <td>A</td>\n",
       "      <td>0.0</td>\n",
       "      <td>1.0</td>\n",
       "      <td>23.0</td>\n",
       "    </tr>\n",
       "    <tr>\n",
       "      <td>2</td>\n",
       "      <td>0000000002</td>\n",
       "      <td>css2006010500001</td>\n",
       "      <td>css</td>\n",
       "      <td>200603</td>\n",
       "      <td>200601</td>\n",
       "      <td>A</td>\n",
       "      <td>0.0</td>\n",
       "      <td>2.0</td>\n",
       "      <td>22.0</td>\n",
       "    </tr>\n",
       "    <tr>\n",
       "      <td>3</td>\n",
       "      <td>0000000002</td>\n",
       "      <td>css2006010500001</td>\n",
       "      <td>css</td>\n",
       "      <td>200604</td>\n",
       "      <td>200601</td>\n",
       "      <td>A</td>\n",
       "      <td>0.0</td>\n",
       "      <td>3.0</td>\n",
       "      <td>21.0</td>\n",
       "    </tr>\n",
       "    <tr>\n",
       "      <td>4</td>\n",
       "      <td>0000000002</td>\n",
       "      <td>css2006010500001</td>\n",
       "      <td>css</td>\n",
       "      <td>200605</td>\n",
       "      <td>200601</td>\n",
       "      <td>A</td>\n",
       "      <td>0.0</td>\n",
       "      <td>4.0</td>\n",
       "      <td>20.0</td>\n",
       "    </tr>\n",
       "  </tbody>\n",
       "</table>\n",
       "</div>"
      ],
      "text/plain": [
       "          cid               aid product  period fin_period status  \\\n",
       "0  0000000002  css2006010500001     css  200601     200601      A   \n",
       "1  0000000002  css2006010500001     css  200602     200601      A   \n",
       "2  0000000002  css2006010500001     css  200603     200601      A   \n",
       "3  0000000002  css2006010500001     css  200604     200601      A   \n",
       "4  0000000002  css2006010500001     css  200605     200601      A   \n",
       "\n",
       "   due_installments  paid_installments  leftn_installments  \n",
       "0               0.0                0.0                24.0  \n",
       "1               0.0                1.0                23.0  \n",
       "2               0.0                2.0                22.0  \n",
       "3               0.0                3.0                21.0  \n",
       "4               0.0                4.0                20.0  "
      ]
     },
     "execution_count": 31,
     "metadata": {},
     "output_type": "execute_result"
    }
   ],
   "source": [
    "transactions.head()"
   ]
  },
  {
   "cell_type": "markdown",
   "metadata": {},
   "source": [
    "Default definition: if a product ever has n_installments_due or more it is considered as default, no matter if the client pays the loan back at a later time."
   ]
  },
  {
   "cell_type": "code",
   "execution_count": 4,
   "metadata": {},
   "outputs": [],
   "source": [
    "############## PROBLEM SPECIFIC FUNCTIONS ###########################\n",
    "def MaxDueInstallmentsMinPeriod(data_transactions):\n",
    "    #Creating table with product id, first installment period adn max due installements.\n",
    "    max_due_install_min_period = pd.pivot_table(data = data_transactions, index = 'aid',\n",
    "                                            values = ['due_installments', 'period'], aggfunc = ['max', 'min'])\n",
    "    max_due_install_min_period.columns = ['max_due_installments', 'max_period', 'min_due_installments', 'min_period']\n",
    "    max_due_install_min_period.drop(['max_period', 'min_due_installments'], axis = 1, inplace = True)\n",
    "    max_due_install_min_period['min_period'] = pd.to_numeric(max_due_install_min_period['min_period'])\n",
    "    return max_due_install_min_period\n",
    "\n",
    "def DefaultPerProduct(data_product, n_installments_due = 3, max_period = 200712):\n",
    "    #Creating dataframe with 0-1 variable if the product defaulted\n",
    "    col_name = 'default'+str(n_installments_due)\n",
    "    data_product.insert(len(data_product.columns),col_name, 0)\n",
    "    for index, row in data_product.iterrows():        \n",
    "        if row['max_due_installments'] >= n_installments_due and row['min_period'] <= max_period:\n",
    "            data_product.at[index, col_name] = 1\n",
    "        else:\n",
    "            data_product.at[index, col_name] = 0\n",
    "    data_product.drop(['min_period', 'max_due_installments'], axis = 1, inplace = True)\n",
    "    return data_product\n",
    "\n",
    "def ProductionDefault(data_product_default, data_production):\n",
    "    #Adding col1umn with 0-1 default to the main dataframe\n",
    "    data_production['period'] = pd.to_numeric(data_production['period'])\n",
    "    data_production = data_production[data_production['period'] <= 200712]\n",
    "    data_merged = data_production.merge(right = data_product_default, on = 'aid')\n",
    "    return data_merged\n",
    "\n",
    "############## PREPORCESSING FUNCTIONS ###########################\n",
    "\n",
    "def unique_count(dataframe):\n",
    "    uniques = dataframe.from_records([(col, dataframe[col].nunique()) for col in dataframe.columns], \n",
    "                                        columns=['Column_Name', 'Num_Unique']).sort_values(by=['Num_Unique'])\n",
    "    return uniques\n",
    "\n",
    "def DeleteMissing(dataframe, perc_missing_delete = 0.6):\n",
    "    return_df = dataframe[dataframe.columns[dataframe.isnull().mean() <= perc_missing_delete]]\n",
    "    return return_df\n",
    "\n",
    "def get_column_names_from_ColumnTransformer(column_transformer):    \n",
    "    col_name = []\n",
    "    for transformer_in_columns in column_transformer.transformers_[:-1]:#the last transformer is ColumnTransformer's 'remainder'\n",
    "        raw_col_name = transformer_in_columns[1]\n",
    "        if isinstance(transformer_in_columns[1],Pipeline): \n",
    "            transformer = transformer_in_columns[1].steps[-1][1]\n",
    "        else:\n",
    "            transformer = transformer_in_columns[1]\n",
    "        try:\n",
    "            names = transformer.get_feature_names()\n",
    "        except AttributeError: # if no 'get_feature_names' function, use raw column name\n",
    "            names = raw_col_name\n",
    "        if isinstance(names,np.ndarray): # eg.\n",
    "            col_name += names.tolist()\n",
    "        elif isinstance(names,list):\n",
    "            col_name += names    \n",
    "        elif isinstance(names,str):\n",
    "            col_name.append(names)\n",
    "    return col_name\n",
    "\n",
    "def Imputer_df(dataframe, num_cols_names, cat_cols_names, strategy_num_cols = 'mean',\n",
    "               strategy_cat_cols = 'most_frequent', remainder = 'passthrough'):\n",
    "    \n",
    "    #imputes missing values using SimpleImputer from sklearn and returns a dataframe instead of numpy array\n",
    "    from sklearn.impute import SimpleImputer\n",
    "    \n",
    "    names = num_cols+cat_cols+[name for name in dataframe.columns if name not in num_cols+cat_cols]\n",
    "    ct1 = ColumnTransformer([\n",
    "        ('imput_mean', SimpleImputer(strategy = strategy_num_cols), num_cols),\n",
    "        ('imput_most_freq', SimpleImputer(strategy = strategy_cat_cols), cat_cols)\n",
    "        ], remainder = 'passthrough')\n",
    "    return_df = pd.DataFrame(data = ct1.fit_transform(dataframe), columns = names)\n",
    "    return return_df\n",
    "\n",
    "\n",
    "def ColumnValuesCheck(df1, df2):\n",
    "    # Columns in both dataframes must have the same names\n",
    "    #checks if columns with the same names have the same values. Columns do not have to be in the same order\n",
    "    #DO NOT USE AFTER IMPUTING MISSING VALUES\n",
    "    list = []\n",
    "    for column in df1:\n",
    "        column_values1 = df1[column]\n",
    "        column_values2 = df2[column]\n",
    "        if column_values1.equals(column_values2):\n",
    "            list = list + [1]\n",
    "        else:\n",
    "            list = list + [0]\n",
    "    return list"
   ]
  },
  {
   "cell_type": "code",
   "execution_count": 60,
   "metadata": {},
   "outputs": [],
   "source": [
    "#transformer_in_columns = transformer.transformers_[:-1]\n",
    "#raw_col_name = transformer_in_columns[1]\n",
    "#raw_col_name[1].get_feature_names()"
   ]
  },
  {
   "cell_type": "code",
   "execution_count": 5,
   "metadata": {},
   "outputs": [],
   "source": [
    "data = MaxDueInstallmentsMinPeriod(transactions)\n",
    "def_product = DefaultPerProduct(data, 3, 200712)\n",
    "data_merged = ProductionDefault(def_product, production)\n",
    "data_merged_nomisscol = DeleteMissing(data_merged, 0.6)"
   ]
  },
  {
   "cell_type": "code",
   "execution_count": 6,
   "metadata": {},
   "outputs": [],
   "source": [
    "data_css = data_merged_nomisscol[data_merged_nomisscol['product'] == 'css']"
   ]
  },
  {
   "cell_type": "code",
   "execution_count": 7,
   "metadata": {},
   "outputs": [],
   "source": [
    "data_css_select = data_css.iloc[:,5:29].copy()"
   ]
  },
  {
   "cell_type": "code",
   "execution_count": 8,
   "metadata": {},
   "outputs": [],
   "source": [
    "data_css_default3 = data_css.loc[:,'default3'].values\n",
    "y = data_css_default3.copy()"
   ]
  },
  {
   "cell_type": "code",
   "execution_count": 92,
   "metadata": {},
   "outputs": [
    {
     "data": {
      "text/html": [
       "<div>\n",
       "<style scoped>\n",
       "    .dataframe tbody tr th:only-of-type {\n",
       "        vertical-align: middle;\n",
       "    }\n",
       "\n",
       "    .dataframe tbody tr th {\n",
       "        vertical-align: top;\n",
       "    }\n",
       "\n",
       "    .dataframe thead th {\n",
       "        text-align: right;\n",
       "    }\n",
       "</style>\n",
       "<table border=\"1\" class=\"dataframe\">\n",
       "  <thead>\n",
       "    <tr style=\"text-align: right;\">\n",
       "      <th></th>\n",
       "      <th>act_cc</th>\n",
       "      <th>act_loaninc</th>\n",
       "      <th>app_income</th>\n",
       "      <th>app_loan_amount</th>\n",
       "      <th>app_n_installments</th>\n",
       "      <th>app_number_of_children</th>\n",
       "      <th>app_spendings</th>\n",
       "      <th>app_installment</th>\n",
       "      <th>act_call_cc</th>\n",
       "      <th>act_cins_n_loan</th>\n",
       "      <th>...</th>\n",
       "      <th>act_cins_n_loans_hist</th>\n",
       "      <th>act_cins_n_statC</th>\n",
       "      <th>act_cins_n_statB</th>\n",
       "      <th>act_ccss_seniority</th>\n",
       "      <th>act_ccss_min_seniority</th>\n",
       "      <th>act_ccss_n_loans_hist</th>\n",
       "      <th>act_ccss_n_statC</th>\n",
       "      <th>act_ccss_n_statB</th>\n",
       "      <th>act_cus_active</th>\n",
       "      <th>act_CMaxA_Days</th>\n",
       "    </tr>\n",
       "  </thead>\n",
       "  <tbody>\n",
       "    <tr>\n",
       "      <td>0</td>\n",
       "      <td>0.577685</td>\n",
       "      <td>2.606882</td>\n",
       "      <td>1918.0</td>\n",
       "      <td>5000.0</td>\n",
       "      <td>24.0</td>\n",
       "      <td>0.0</td>\n",
       "      <td>900.0</td>\n",
       "      <td>208.0</td>\n",
       "      <td>1.119917</td>\n",
       "      <td>0.0</td>\n",
       "      <td>...</td>\n",
       "      <td>21.0</td>\n",
       "      <td>21.0</td>\n",
       "      <td>0.0</td>\n",
       "      <td>307.0</td>\n",
       "      <td>4.0</td>\n",
       "      <td>51.0</td>\n",
       "      <td>43.0</td>\n",
       "      <td>2.0</td>\n",
       "      <td>1.0</td>\n",
       "      <td>15.0</td>\n",
       "    </tr>\n",
       "    <tr>\n",
       "      <td>1</td>\n",
       "      <td>0.499747</td>\n",
       "      <td>2.529084</td>\n",
       "      <td>1977.0</td>\n",
       "      <td>5000.0</td>\n",
       "      <td>24.0</td>\n",
       "      <td>0.0</td>\n",
       "      <td>780.0</td>\n",
       "      <td>208.0</td>\n",
       "      <td>1.025797</td>\n",
       "      <td>0.0</td>\n",
       "      <td>...</td>\n",
       "      <td>9.0</td>\n",
       "      <td>6.0</td>\n",
       "      <td>3.0</td>\n",
       "      <td>252.0</td>\n",
       "      <td>4.0</td>\n",
       "      <td>40.0</td>\n",
       "      <td>32.0</td>\n",
       "      <td>2.0</td>\n",
       "      <td>1.0</td>\n",
       "      <td>14.0</td>\n",
       "    </tr>\n",
       "    <tr>\n",
       "      <td>2</td>\n",
       "      <td>0.584158</td>\n",
       "      <td>4.125413</td>\n",
       "      <td>1212.0</td>\n",
       "      <td>5000.0</td>\n",
       "      <td>24.0</td>\n",
       "      <td>0.0</td>\n",
       "      <td>500.0</td>\n",
       "      <td>208.0</td>\n",
       "      <td>1.442244</td>\n",
       "      <td>0.0</td>\n",
       "      <td>...</td>\n",
       "      <td>6.0</td>\n",
       "      <td>6.0</td>\n",
       "      <td>0.0</td>\n",
       "      <td>309.0</td>\n",
       "      <td>4.0</td>\n",
       "      <td>76.0</td>\n",
       "      <td>70.0</td>\n",
       "      <td>0.0</td>\n",
       "      <td>1.0</td>\n",
       "      <td>14.0</td>\n",
       "    </tr>\n",
       "    <tr>\n",
       "      <td>3</td>\n",
       "      <td>0.602687</td>\n",
       "      <td>4.798464</td>\n",
       "      <td>1042.0</td>\n",
       "      <td>5000.0</td>\n",
       "      <td>24.0</td>\n",
       "      <td>0.0</td>\n",
       "      <td>420.0</td>\n",
       "      <td>208.0</td>\n",
       "      <td>1.401152</td>\n",
       "      <td>0.0</td>\n",
       "      <td>...</td>\n",
       "      <td>11.0</td>\n",
       "      <td>11.0</td>\n",
       "      <td>0.0</td>\n",
       "      <td>299.0</td>\n",
       "      <td>4.0</td>\n",
       "      <td>69.0</td>\n",
       "      <td>62.0</td>\n",
       "      <td>2.0</td>\n",
       "      <td>1.0</td>\n",
       "      <td>15.0</td>\n",
       "    </tr>\n",
       "    <tr>\n",
       "      <td>4</td>\n",
       "      <td>0.604592</td>\n",
       "      <td>3.188776</td>\n",
       "      <td>1568.0</td>\n",
       "      <td>5000.0</td>\n",
       "      <td>24.0</td>\n",
       "      <td>0.0</td>\n",
       "      <td>740.0</td>\n",
       "      <td>208.0</td>\n",
       "      <td>1.267857</td>\n",
       "      <td>0.0</td>\n",
       "      <td>...</td>\n",
       "      <td>11.0</td>\n",
       "      <td>11.0</td>\n",
       "      <td>0.0</td>\n",
       "      <td>307.0</td>\n",
       "      <td>4.0</td>\n",
       "      <td>69.0</td>\n",
       "      <td>62.0</td>\n",
       "      <td>1.0</td>\n",
       "      <td>1.0</td>\n",
       "      <td>14.0</td>\n",
       "    </tr>\n",
       "  </tbody>\n",
       "</table>\n",
       "<p>5 rows × 24 columns</p>\n",
       "</div>"
      ],
      "text/plain": [
       "     act_cc  act_loaninc  app_income  app_loan_amount  app_n_installments  \\\n",
       "0  0.577685     2.606882      1918.0           5000.0                24.0   \n",
       "1  0.499747     2.529084      1977.0           5000.0                24.0   \n",
       "2  0.584158     4.125413      1212.0           5000.0                24.0   \n",
       "3  0.602687     4.798464      1042.0           5000.0                24.0   \n",
       "4  0.604592     3.188776      1568.0           5000.0                24.0   \n",
       "\n",
       "   app_number_of_children  app_spendings  app_installment  act_call_cc  \\\n",
       "0                     0.0          900.0            208.0     1.119917   \n",
       "1                     0.0          780.0            208.0     1.025797   \n",
       "2                     0.0          500.0            208.0     1.442244   \n",
       "3                     0.0          420.0            208.0     1.401152   \n",
       "4                     0.0          740.0            208.0     1.267857   \n",
       "\n",
       "   act_cins_n_loan  ...  act_cins_n_loans_hist  act_cins_n_statC  \\\n",
       "0              0.0  ...                   21.0              21.0   \n",
       "1              0.0  ...                    9.0               6.0   \n",
       "2              0.0  ...                    6.0               6.0   \n",
       "3              0.0  ...                   11.0              11.0   \n",
       "4              0.0  ...                   11.0              11.0   \n",
       "\n",
       "   act_cins_n_statB  act_ccss_seniority  act_ccss_min_seniority  \\\n",
       "0               0.0               307.0                     4.0   \n",
       "1               3.0               252.0                     4.0   \n",
       "2               0.0               309.0                     4.0   \n",
       "3               0.0               299.0                     4.0   \n",
       "4               0.0               307.0                     4.0   \n",
       "\n",
       "   act_ccss_n_loans_hist  act_ccss_n_statC  act_ccss_n_statB  act_cus_active  \\\n",
       "0                   51.0              43.0               2.0             1.0   \n",
       "1                   40.0              32.0               2.0             1.0   \n",
       "2                   76.0              70.0               0.0             1.0   \n",
       "3                   69.0              62.0               2.0             1.0   \n",
       "4                   69.0              62.0               1.0             1.0   \n",
       "\n",
       "   act_CMaxA_Days  \n",
       "0            15.0  \n",
       "1            14.0  \n",
       "2            14.0  \n",
       "3            15.0  \n",
       "4            14.0  \n",
       "\n",
       "[5 rows x 24 columns]"
      ]
     },
     "execution_count": 92,
     "metadata": {},
     "output_type": "execute_result"
    }
   ],
   "source": [
    "data_css_select.head()"
   ]
  },
  {
   "cell_type": "code",
   "execution_count": 95,
   "metadata": {},
   "outputs": [
    {
     "data": {
      "text/html": [
       "<div>\n",
       "<style scoped>\n",
       "    .dataframe tbody tr th:only-of-type {\n",
       "        vertical-align: middle;\n",
       "    }\n",
       "\n",
       "    .dataframe tbody tr th {\n",
       "        vertical-align: top;\n",
       "    }\n",
       "\n",
       "    .dataframe thead th {\n",
       "        text-align: right;\n",
       "    }\n",
       "</style>\n",
       "<table border=\"1\" class=\"dataframe\">\n",
       "  <thead>\n",
       "    <tr style=\"text-align: right;\">\n",
       "      <th></th>\n",
       "      <th>Column_Name</th>\n",
       "      <th>Num_Unique</th>\n",
       "    </tr>\n",
       "  </thead>\n",
       "  <tbody>\n",
       "    <tr>\n",
       "      <td>22</td>\n",
       "      <td>act_cus_active</td>\n",
       "      <td>1</td>\n",
       "    </tr>\n",
       "    <tr>\n",
       "      <td>3</td>\n",
       "      <td>app_loan_amount</td>\n",
       "      <td>1</td>\n",
       "    </tr>\n",
       "    <tr>\n",
       "      <td>4</td>\n",
       "      <td>app_n_installments</td>\n",
       "      <td>1</td>\n",
       "    </tr>\n",
       "    <tr>\n",
       "      <td>7</td>\n",
       "      <td>app_installment</td>\n",
       "      <td>1</td>\n",
       "    </tr>\n",
       "    <tr>\n",
       "      <td>5</td>\n",
       "      <td>app_number_of_children</td>\n",
       "      <td>4</td>\n",
       "    </tr>\n",
       "    <tr>\n",
       "      <td>9</td>\n",
       "      <td>act_cins_n_loan</td>\n",
       "      <td>4</td>\n",
       "    </tr>\n",
       "    <tr>\n",
       "      <td>10</td>\n",
       "      <td>act_ccss_n_loan</td>\n",
       "      <td>7</td>\n",
       "    </tr>\n",
       "    <tr>\n",
       "      <td>11</td>\n",
       "      <td>act_call_n_loan</td>\n",
       "      <td>8</td>\n",
       "    </tr>\n",
       "    <tr>\n",
       "      <td>16</td>\n",
       "      <td>act_cins_n_statB</td>\n",
       "      <td>22</td>\n",
       "    </tr>\n",
       "    <tr>\n",
       "      <td>23</td>\n",
       "      <td>act_CMaxA_Days</td>\n",
       "      <td>25</td>\n",
       "    </tr>\n",
       "    <tr>\n",
       "      <td>15</td>\n",
       "      <td>act_cins_n_statC</td>\n",
       "      <td>29</td>\n",
       "    </tr>\n",
       "    <tr>\n",
       "      <td>14</td>\n",
       "      <td>act_cins_n_loans_hist</td>\n",
       "      <td>32</td>\n",
       "    </tr>\n",
       "    <tr>\n",
       "      <td>21</td>\n",
       "      <td>act_ccss_n_statB</td>\n",
       "      <td>33</td>\n",
       "    </tr>\n",
       "    <tr>\n",
       "      <td>20</td>\n",
       "      <td>act_ccss_n_statC</td>\n",
       "      <td>76</td>\n",
       "    </tr>\n",
       "    <tr>\n",
       "      <td>19</td>\n",
       "      <td>act_ccss_n_loans_hist</td>\n",
       "      <td>81</td>\n",
       "    </tr>\n",
       "    <tr>\n",
       "      <td>6</td>\n",
       "      <td>app_spendings</td>\n",
       "      <td>170</td>\n",
       "    </tr>\n",
       "    <tr>\n",
       "      <td>18</td>\n",
       "      <td>act_ccss_min_seniority</td>\n",
       "      <td>277</td>\n",
       "    </tr>\n",
       "    <tr>\n",
       "      <td>13</td>\n",
       "      <td>act_cins_min_seniority</td>\n",
       "      <td>297</td>\n",
       "    </tr>\n",
       "    <tr>\n",
       "      <td>17</td>\n",
       "      <td>act_ccss_seniority</td>\n",
       "      <td>327</td>\n",
       "    </tr>\n",
       "    <tr>\n",
       "      <td>12</td>\n",
       "      <td>act_cins_seniority</td>\n",
       "      <td>335</td>\n",
       "    </tr>\n",
       "    <tr>\n",
       "      <td>2</td>\n",
       "      <td>app_income</td>\n",
       "      <td>2933</td>\n",
       "    </tr>\n",
       "    <tr>\n",
       "      <td>1</td>\n",
       "      <td>act_loaninc</td>\n",
       "      <td>2933</td>\n",
       "    </tr>\n",
       "    <tr>\n",
       "      <td>0</td>\n",
       "      <td>act_cc</td>\n",
       "      <td>12068</td>\n",
       "    </tr>\n",
       "    <tr>\n",
       "      <td>8</td>\n",
       "      <td>act_call_cc</td>\n",
       "      <td>19976</td>\n",
       "    </tr>\n",
       "  </tbody>\n",
       "</table>\n",
       "</div>"
      ],
      "text/plain": [
       "               Column_Name  Num_Unique\n",
       "22          act_cus_active           1\n",
       "3          app_loan_amount           1\n",
       "4       app_n_installments           1\n",
       "7          app_installment           1\n",
       "5   app_number_of_children           4\n",
       "9          act_cins_n_loan           4\n",
       "10         act_ccss_n_loan           7\n",
       "11         act_call_n_loan           8\n",
       "16        act_cins_n_statB          22\n",
       "23          act_CMaxA_Days          25\n",
       "15        act_cins_n_statC          29\n",
       "14   act_cins_n_loans_hist          32\n",
       "21        act_ccss_n_statB          33\n",
       "20        act_ccss_n_statC          76\n",
       "19   act_ccss_n_loans_hist          81\n",
       "6            app_spendings         170\n",
       "18  act_ccss_min_seniority         277\n",
       "13  act_cins_min_seniority         297\n",
       "17      act_ccss_seniority         327\n",
       "12      act_cins_seniority         335\n",
       "2               app_income        2933\n",
       "1              act_loaninc        2933\n",
       "0                   act_cc       12068\n",
       "8              act_call_cc       19976"
      ]
     },
     "execution_count": 95,
     "metadata": {},
     "output_type": "execute_result"
    }
   ],
   "source": [
    "unique_count(data_css_select)"
   ]
  },
  {
   "cell_type": "code",
   "execution_count": 96,
   "metadata": {},
   "outputs": [
    {
     "name": "stderr",
     "output_type": "stream",
     "text": [
      "C:\\Anaconda\\lib\\site-packages\\numpy\\lib\\histograms.py:824: RuntimeWarning: invalid value encountered in greater_equal\n",
      "  keep = (tmp_a >= first_edge)\n",
      "C:\\Anaconda\\lib\\site-packages\\numpy\\lib\\histograms.py:825: RuntimeWarning: invalid value encountered in less_equal\n",
      "  keep &= (tmp_a <= last_edge)\n"
     ]
    },
    {
     "data": {
      "image/png": "[encoded data removed]",
      "text/plain": [
       "<Figure size 432x288 with 1 Axes>"
      ]
     },
     "metadata": {
      "needs_background": "light"
     },
     "output_type": "display_data"
    }
   ],
   "source": [
    "plt.hist(data_css_select['act_ccss_n_loans_hist'])\n",
    "plt.show()"
   ]
  },
  {
   "cell_type": "code",
   "execution_count": 9,
   "metadata": {},
   "outputs": [],
   "source": [
    "drop_cols = unique_count(data_css_select)['Column_Name'][0:4].values.tolist()\n",
    "cat_cols = unique_count(data_css_select)['Column_Name'][4:8].values.tolist()\n",
    "num_cols = unique_count(data_css_select)['Column_Name'][8:23].values.tolist()"
   ]
  },
  {
   "cell_type": "code",
   "execution_count": 10,
   "metadata": {},
   "outputs": [],
   "source": [
    "ct1 = ColumnTransformer([\n",
    "    ('imput_mean', SimpleImputer(strategy = 'mean'), num_cols),\n",
    "    ('imput_most_freq', SimpleImputer(strategy = 'most_frequent'), cat_cols)\n",
    "], remainder = 'drop')"
   ]
  },
  {
   "cell_type": "code",
   "execution_count": 11,
   "metadata": {},
   "outputs": [],
   "source": [
    "ct2 = ColumnTransformer([\n",
    "    ('stand_scale', StandardScaler(), num_cols),\n",
    "    ('ohe', OneHotEncoder(categories = 'auto'), cat_cols)\n",
    "], remainder = 'drop')"
   ]
  },
  {
   "cell_type": "code",
   "execution_count": 32,
   "metadata": {},
   "outputs": [],
   "source": [
    "pipeline = Pipeline([\n",
    "    ('column transformer', transformer),\n",
    "    ('ling_reg', LogisticRegression())    \n",
    "])"
   ]
  },
  {
   "cell_type": "code",
   "execution_count": 83,
   "metadata": {},
   "outputs": [],
   "source": [
    "#pipeline.fit(data_css_select, y_train)"
   ]
  },
  {
   "cell_type": "code",
   "execution_count": 99,
   "metadata": {},
   "outputs": [
    {
     "data": {
      "text/plain": [
       "[1, 0, 1, 1, 0, 0, 0, 1, 0, 1, 0, 1, 1, 1, 1, 1, 1, 1, 1, 1, 1, 1, 1, 1]"
      ]
     },
     "execution_count": 99,
     "metadata": {},
     "output_type": "execute_result"
    }
   ],
   "source": [
    "ColumnValuesCheck(data_X, data_css_select)"
   ]
  },
  {
   "cell_type": "code",
   "execution_count": 14,
   "metadata": {},
   "outputs": [],
   "source": [
    "data_X = Imputer_df(dataframe = data_css_select, num_cols_names = num_cols, cat_cols_names = cat_cols)"
   ]
  },
  {
   "cell_type": "code",
   "execution_count": 16,
   "metadata": {},
   "outputs": [],
   "source": [
    "data_X_scaled_onehot = ct2.fit_transform(data_X)"
   ]
  },
  {
   "cell_type": "code",
   "execution_count": 17,
   "metadata": {},
   "outputs": [
    {
     "name": "stdout",
     "output_type": "stream",
     "text": [
      "[[-0.27750626  0.71527406  3.54509451 ...  1.          0.\n",
      "   0.        ]\n",
      " [ 2.15028684  0.1787084   0.11677979 ...  1.          0.\n",
      "   0.        ]\n",
      " [-0.27750626  0.1787084   0.11677979 ...  1.          0.\n",
      "   0.        ]\n",
      " ...\n",
      " [-0.27750626  0.71527406 -1.02599178 ...  0.          0.\n",
      "   0.        ]\n",
      " [-0.27750626 -0.35785726 -1.25454609 ...  0.          0.\n",
      "   0.        ]\n",
      " [-0.27750626 -0.89442292 -1.25454609 ...  0.          0.\n",
      "   0.        ]]\n"
     ]
    }
   ],
   "source": [
    "print(data_X_scaled_onehot)"
   ]
  },
  {
   "cell_type": "code",
   "execution_count": 29,
   "metadata": {},
   "outputs": [],
   "source": [
    "X_train, X_test, y_train, y_test = train_test_split(data_X_scaled_onehot, y, test_size = 0.2, random_state = 0)"
   ]
  },
  {
   "cell_type": "markdown",
   "metadata": {},
   "source": [
    "## Gradient Boosting"
   ]
  },
  {
   "cell_type": "code",
   "execution_count": 42,
   "metadata": {},
   "outputs": [],
   "source": [
    "dtrain = xgb.DMatrix(X_train, label = y_train)\n",
    "dtest = xgb.DMatrix(X_test, label = y_test)"
   ]
  },
  {
   "cell_type": "code",
   "execution_count": 78,
   "metadata": {},
   "outputs": [],
   "source": [
    "param = {'max_depth': 8,\n",
    "        'learning_rate': 1,\n",
    "        'objective': 'binary:logistic',\n",
    "        'nthread': 4,\n",
    "        'eval_metric': ['auc', 'error']}\n",
    "evallist = [(dtrain, 'eval',\n",
    "            dtest, 'train')]\n",
    "num_round = 100\n"
   ]
  },
  {
   "cell_type": "code",
   "execution_count": 79,
   "metadata": {},
   "outputs": [
    {
     "name": "stdout",
     "output_type": "stream",
     "text": [
      "[0]\teval-auc:0.80822\teval-error:0.20321\n",
      "[1]\teval-auc:0.84333\teval-error:0.18758\n",
      "[2]\teval-auc:0.85617\teval-error:0.18102\n",
      "[3]\teval-auc:0.87277\teval-error:0.17263\n",
      "[4]\teval-auc:0.87704\teval-error:0.17012\n",
      "[5]\teval-auc:0.88684\teval-error:0.16401\n",
      "[6]\teval-auc:0.89580\teval-error:0.15801\n",
      "[7]\teval-auc:0.90664\teval-error:0.14874\n",
      "[8]\teval-auc:0.91263\teval-error:0.14522\n",
      "[9]\teval-auc:0.91729\teval-error:0.14064\n",
      "[10]\teval-auc:0.92224\teval-error:0.13789\n",
      "[11]\teval-auc:0.92739\teval-error:0.13303\n",
      "[12]\teval-auc:0.93215\teval-error:0.12825\n",
      "[13]\teval-auc:0.94044\teval-error:0.11873\n",
      "[14]\teval-auc:0.94460\teval-error:0.11387\n",
      "[15]\teval-auc:0.94700\teval-error:0.11112\n",
      "[16]\teval-auc:0.95095\teval-error:0.10731\n",
      "[17]\teval-auc:0.95344\teval-error:0.10525\n",
      "[18]\teval-auc:0.95913\teval-error:0.09784\n",
      "[19]\teval-auc:0.96217\teval-error:0.09363\n",
      "[20]\teval-auc:0.96346\teval-error:0.09128\n",
      "[21]\teval-auc:0.96481\teval-error:0.08941\n",
      "[22]\teval-auc:0.96866\teval-error:0.08415\n",
      "[23]\teval-auc:0.97274\teval-error:0.07727\n",
      "[24]\teval-auc:0.97452\teval-error:0.07394\n",
      "[25]\teval-auc:0.97661\teval-error:0.07079\n",
      "[26]\teval-auc:0.97769\teval-error:0.06840\n",
      "[27]\teval-auc:0.97838\teval-error:0.06751\n",
      "[28]\teval-auc:0.97916\teval-error:0.06629\n",
      "[29]\teval-auc:0.97994\teval-error:0.06516\n",
      "[30]\teval-auc:0.98081\teval-error:0.06358\n",
      "[31]\teval-auc:0.98184\teval-error:0.06204\n",
      "[32]\teval-auc:0.98340\teval-error:0.05852\n",
      "[33]\teval-auc:0.98540\teval-error:0.05418\n",
      "[34]\teval-auc:0.98596\teval-error:0.05341\n",
      "[35]\teval-auc:0.98696\teval-error:0.05151\n",
      "[36]\teval-auc:0.98714\teval-error:0.05123\n",
      "[37]\teval-auc:0.98802\teval-error:0.04985\n",
      "[38]\teval-auc:0.98865\teval-error:0.04746\n",
      "[39]\teval-auc:0.99004\teval-error:0.04414\n",
      "[40]\teval-auc:0.99072\teval-error:0.04337\n",
      "[41]\teval-auc:0.99127\teval-error:0.04171\n",
      "[42]\teval-auc:0.99243\teval-error:0.03888\n",
      "[43]\teval-auc:0.99300\teval-error:0.03734\n",
      "[44]\teval-auc:0.99323\teval-error:0.03665\n",
      "[45]\teval-auc:0.99397\teval-error:0.03369\n",
      "[46]\teval-auc:0.99482\teval-error:0.03086\n",
      "[47]\teval-auc:0.99516\teval-error:0.02936\n",
      "[48]\teval-auc:0.99558\teval-error:0.02827\n",
      "[49]\teval-auc:0.99601\teval-error:0.02640\n",
      "[50]\teval-auc:0.99622\teval-error:0.02652\n",
      "[51]\teval-auc:0.99666\teval-error:0.02507\n",
      "[52]\teval-auc:0.99700\teval-error:0.02377\n",
      "[53]\teval-auc:0.99705\teval-error:0.02345\n",
      "[54]\teval-auc:0.99738\teval-error:0.02142\n",
      "[55]\teval-auc:0.99779\teval-error:0.01887\n",
      "[56]\teval-auc:0.99809\teval-error:0.01762\n",
      "[57]\teval-auc:0.99844\teval-error:0.01583\n",
      "[58]\teval-auc:0.99859\teval-error:0.01466\n",
      "[59]\teval-auc:0.99873\teval-error:0.01393\n",
      "[60]\teval-auc:0.99893\teval-error:0.01296\n",
      "[61]\teval-auc:0.99904\teval-error:0.01223\n",
      "[62]\teval-auc:0.99915\teval-error:0.01134\n",
      "[63]\teval-auc:0.99918\teval-error:0.01097\n",
      "[64]\teval-auc:0.99926\teval-error:0.01057\n",
      "[65]\teval-auc:0.99930\teval-error:0.01016\n",
      "[66]\teval-auc:0.99939\teval-error:0.00940\n",
      "[67]\teval-auc:0.99944\teval-error:0.00923\n",
      "[68]\teval-auc:0.99945\teval-error:0.00903\n",
      "[69]\teval-auc:0.99948\teval-error:0.00883\n",
      "[70]\teval-auc:0.99961\teval-error:0.00798\n",
      "[71]\teval-auc:0.99967\teval-error:0.00721\n",
      "[72]\teval-auc:0.99973\teval-error:0.00668\n",
      "[73]\teval-auc:0.99977\teval-error:0.00628\n",
      "[74]\teval-auc:0.99978\teval-error:0.00624\n",
      "[75]\teval-auc:0.99980\teval-error:0.00615\n",
      "[76]\teval-auc:0.99982\teval-error:0.00575\n",
      "[77]\teval-auc:0.99984\teval-error:0.00567\n",
      "[78]\teval-auc:0.99987\teval-error:0.00530\n",
      "[79]\teval-auc:0.99988\teval-error:0.00510\n",
      "[80]\teval-auc:0.99988\teval-error:0.00510\n",
      "[81]\teval-auc:0.99989\teval-error:0.00502\n",
      "[82]\teval-auc:0.99991\teval-error:0.00433\n",
      "[83]\teval-auc:0.99992\teval-error:0.00401\n",
      "[84]\teval-auc:0.99994\teval-error:0.00348\n",
      "[85]\teval-auc:0.99995\teval-error:0.00267\n",
      "[86]\teval-auc:0.99997\teval-error:0.00243\n",
      "[87]\teval-auc:0.99997\teval-error:0.00211\n",
      "[88]\teval-auc:0.99997\teval-error:0.00215\n",
      "[89]\teval-auc:0.99998\teval-error:0.00202\n",
      "[90]\teval-auc:0.99998\teval-error:0.00178\n",
      "[91]\teval-auc:0.99999\teval-error:0.00166\n",
      "[92]\teval-auc:0.99999\teval-error:0.00166\n",
      "[93]\teval-auc:0.99999\teval-error:0.00154\n",
      "[94]\teval-auc:0.99999\teval-error:0.00150\n",
      "[95]\teval-auc:0.99999\teval-error:0.00146\n",
      "[96]\teval-auc:0.99999\teval-error:0.00134\n",
      "[97]\teval-auc:0.99999\teval-error:0.00113\n",
      "[98]\teval-auc:0.99999\teval-error:0.00113\n",
      "[99]\teval-auc:0.99999\teval-error:0.00121\n"
     ]
    }
   ],
   "source": [
    "bst = xgb.train(param, dtrain, num_round, evallist)"
   ]
  },
  {
   "cell_type": "code",
   "execution_count": 81,
   "metadata": {},
   "outputs": [
    {
     "data": {
      "text/plain": [
       "<matplotlib.axes._subplots.AxesSubplot at 0x15078a9fe88>"
      ]
     },
     "execution_count": 81,
     "metadata": {},
     "output_type": "execute_result"
    },
    {
     "data": {
      "image/png": "[encoded data removed]",
      "text/plain": [
       "<Figure size 432x288 with 1 Axes>"
      ]
     },
     "metadata": {
      "needs_background": "light"
     },
     "output_type": "display_data"
    }
   ],
   "source": [
    "xgb.plot_importance(bst)"
   ]
  },
  {
   "cell_type": "code",
   "execution_count": 95,
   "metadata": {},
   "outputs": [],
   "source": [
    "import os\n",
    "os.environ[\"PATH\"] += os.pathsep + 'C:/Program Files (x86)/Graphviz2.38/bin/'"
   ]
  },
  {
   "cell_type": "code",
   "execution_count": 96,
   "metadata": {},
   "outputs": [
    {
     "ename": "ExecutableNotFound",
     "evalue": "failed to execute ['dot', '-Tpng'], make sure the Graphviz executables are on your systems' PATH",
     "output_type": "error",
     "traceback": [
      "\u001b[1;31m---------------------------------------------------------------------------\u001b[0m",
      "\u001b[1;31mFileNotFoundError\u001b[0m                         Traceback (most recent call last)",
      "\u001b[1;32mC:\\Anaconda\\lib\\site-packages\\graphviz\\backend.py\u001b[0m in \u001b[0;36mrun\u001b[1;34m(cmd, input, capture_output, check, quiet, **kwargs)\u001b[0m\n\u001b[0;32m    158\u001b[0m     \u001b[1;32mtry\u001b[0m\u001b[1;33m:\u001b[0m\u001b[1;33m\u001b[0m\u001b[1;33m\u001b[0m\u001b[0m\n\u001b[1;32m--> 159\u001b[1;33m         \u001b[0mproc\u001b[0m \u001b[1;33m=\u001b[0m \u001b[0msubprocess\u001b[0m\u001b[1;33m.\u001b[0m\u001b[0mPopen\u001b[0m\u001b[1;33m(\u001b[0m\u001b[0mcmd\u001b[0m\u001b[1;33m,\u001b[0m \u001b[0mstartupinfo\u001b[0m\u001b[1;33m=\u001b[0m\u001b[0mget_startupinfo\u001b[0m\u001b[1;33m(\u001b[0m\u001b[1;33m)\u001b[0m\u001b[1;33m,\u001b[0m \u001b[1;33m**\u001b[0m\u001b[0mkwargs\u001b[0m\u001b[1;33m)\u001b[0m\u001b[1;33m\u001b[0m\u001b[1;33m\u001b[0m\u001b[0m\n\u001b[0m\u001b[0;32m    160\u001b[0m     \u001b[1;32mexcept\u001b[0m \u001b[0mOSError\u001b[0m \u001b[1;32mas\u001b[0m \u001b[0me\u001b[0m\u001b[1;33m:\u001b[0m\u001b[1;33m\u001b[0m\u001b[1;33m\u001b[0m\u001b[0m\n",
      "\u001b[1;32mC:\\Anaconda\\lib\\subprocess.py\u001b[0m in \u001b[0;36m__init__\u001b[1;34m(self, args, bufsize, executable, stdin, stdout, stderr, preexec_fn, close_fds, shell, cwd, env, universal_newlines, startupinfo, creationflags, restore_signals, start_new_session, pass_fds, encoding, errors, text)\u001b[0m\n\u001b[0;32m    774\u001b[0m                                 \u001b[0merrread\u001b[0m\u001b[1;33m,\u001b[0m \u001b[0merrwrite\u001b[0m\u001b[1;33m,\u001b[0m\u001b[1;33m\u001b[0m\u001b[1;33m\u001b[0m\u001b[0m\n\u001b[1;32m--> 775\u001b[1;33m                                 restore_signals, start_new_session)\n\u001b[0m\u001b[0;32m    776\u001b[0m         \u001b[1;32mexcept\u001b[0m\u001b[1;33m:\u001b[0m\u001b[1;33m\u001b[0m\u001b[1;33m\u001b[0m\u001b[0m\n",
      "\u001b[1;32mC:\\Anaconda\\lib\\subprocess.py\u001b[0m in \u001b[0;36m_execute_child\u001b[1;34m(self, args, executable, preexec_fn, close_fds, pass_fds, cwd, env, startupinfo, creationflags, shell, p2cread, p2cwrite, c2pread, c2pwrite, errread, errwrite, unused_restore_signals, unused_start_new_session)\u001b[0m\n\u001b[0;32m   1177\u001b[0m                                          \u001b[0mos\u001b[0m\u001b[1;33m.\u001b[0m\u001b[0mfspath\u001b[0m\u001b[1;33m(\u001b[0m\u001b[0mcwd\u001b[0m\u001b[1;33m)\u001b[0m \u001b[1;32mif\u001b[0m \u001b[0mcwd\u001b[0m \u001b[1;32mis\u001b[0m \u001b[1;32mnot\u001b[0m \u001b[1;32mNone\u001b[0m \u001b[1;32melse\u001b[0m \u001b[1;32mNone\u001b[0m\u001b[1;33m,\u001b[0m\u001b[1;33m\u001b[0m\u001b[1;33m\u001b[0m\u001b[0m\n\u001b[1;32m-> 1178\u001b[1;33m                                          startupinfo)\n\u001b[0m\u001b[0;32m   1179\u001b[0m             \u001b[1;32mfinally\u001b[0m\u001b[1;33m:\u001b[0m\u001b[1;33m\u001b[0m\u001b[1;33m\u001b[0m\u001b[0m\n",
      "\u001b[1;31mFileNotFoundError\u001b[0m: [WinError 2] Nie można odnaleźć określonego pliku",
      "\nDuring handling of the above exception, another exception occurred:\n",
      "\u001b[1;31mExecutableNotFound\u001b[0m                        Traceback (most recent call last)",
      "\u001b[1;32m<ipython-input-96-fced1588dc3d>\u001b[0m in \u001b[0;36m<module>\u001b[1;34m\u001b[0m\n\u001b[1;32m----> 1\u001b[1;33m \u001b[0mxgb\u001b[0m\u001b[1;33m.\u001b[0m\u001b[0mplot_tree\u001b[0m\u001b[1;33m(\u001b[0m\u001b[0mbst\u001b[0m\u001b[1;33m,\u001b[0m \u001b[0mnum_trees\u001b[0m\u001b[1;33m=\u001b[0m\u001b[1;36m1\u001b[0m\u001b[1;33m)\u001b[0m\u001b[1;33m\u001b[0m\u001b[1;33m\u001b[0m\u001b[0m\n\u001b[0m",
      "\u001b[1;32mC:\\Anaconda\\lib\\site-packages\\xgboost\\plotting.py\u001b[0m in \u001b[0;36mplot_tree\u001b[1;34m(booster, fmap, num_trees, rankdir, ax, **kwargs)\u001b[0m\n\u001b[0;32m    244\u001b[0m \u001b[1;33m\u001b[0m\u001b[0m\n\u001b[0;32m    245\u001b[0m     \u001b[0ms\u001b[0m \u001b[1;33m=\u001b[0m \u001b[0mBytesIO\u001b[0m\u001b[1;33m(\u001b[0m\u001b[1;33m)\u001b[0m\u001b[1;33m\u001b[0m\u001b[1;33m\u001b[0m\u001b[0m\n\u001b[1;32m--> 246\u001b[1;33m     \u001b[0ms\u001b[0m\u001b[1;33m.\u001b[0m\u001b[0mwrite\u001b[0m\u001b[1;33m(\u001b[0m\u001b[0mg\u001b[0m\u001b[1;33m.\u001b[0m\u001b[0mpipe\u001b[0m\u001b[1;33m(\u001b[0m\u001b[0mformat\u001b[0m\u001b[1;33m=\u001b[0m\u001b[1;34m'png'\u001b[0m\u001b[1;33m)\u001b[0m\u001b[1;33m)\u001b[0m\u001b[1;33m\u001b[0m\u001b[1;33m\u001b[0m\u001b[0m\n\u001b[0m\u001b[0;32m    247\u001b[0m     \u001b[0ms\u001b[0m\u001b[1;33m.\u001b[0m\u001b[0mseek\u001b[0m\u001b[1;33m(\u001b[0m\u001b[1;36m0\u001b[0m\u001b[1;33m)\u001b[0m\u001b[1;33m\u001b[0m\u001b[1;33m\u001b[0m\u001b[0m\n\u001b[0;32m    248\u001b[0m     \u001b[0mimg\u001b[0m \u001b[1;33m=\u001b[0m \u001b[0mimage\u001b[0m\u001b[1;33m.\u001b[0m\u001b[0mimread\u001b[0m\u001b[1;33m(\u001b[0m\u001b[0ms\u001b[0m\u001b[1;33m)\u001b[0m\u001b[1;33m\u001b[0m\u001b[1;33m\u001b[0m\u001b[0m\n",
      "\u001b[1;32mC:\\Anaconda\\lib\\site-packages\\graphviz\\files.py\u001b[0m in \u001b[0;36mpipe\u001b[1;34m(self, format, renderer, formatter, quiet)\u001b[0m\n\u001b[0;32m    136\u001b[0m         out = backend.pipe(self._engine, format, data,\n\u001b[0;32m    137\u001b[0m                            \u001b[0mrenderer\u001b[0m\u001b[1;33m=\u001b[0m\u001b[0mrenderer\u001b[0m\u001b[1;33m,\u001b[0m \u001b[0mformatter\u001b[0m\u001b[1;33m=\u001b[0m\u001b[0mformatter\u001b[0m\u001b[1;33m,\u001b[0m\u001b[1;33m\u001b[0m\u001b[1;33m\u001b[0m\u001b[0m\n\u001b[1;32m--> 138\u001b[1;33m                            quiet=quiet)\n\u001b[0m\u001b[0;32m    139\u001b[0m \u001b[1;33m\u001b[0m\u001b[0m\n\u001b[0;32m    140\u001b[0m         \u001b[1;32mreturn\u001b[0m \u001b[0mout\u001b[0m\u001b[1;33m\u001b[0m\u001b[1;33m\u001b[0m\u001b[0m\n",
      "\u001b[1;32mC:\\Anaconda\\lib\\site-packages\\graphviz\\backend.py\u001b[0m in \u001b[0;36mpipe\u001b[1;34m(engine, format, data, renderer, formatter, quiet)\u001b[0m\n\u001b[0;32m    227\u001b[0m     \"\"\"\n\u001b[0;32m    228\u001b[0m     \u001b[0mcmd\u001b[0m\u001b[1;33m,\u001b[0m \u001b[0m_\u001b[0m \u001b[1;33m=\u001b[0m \u001b[0mcommand\u001b[0m\u001b[1;33m(\u001b[0m\u001b[0mengine\u001b[0m\u001b[1;33m,\u001b[0m \u001b[0mformat\u001b[0m\u001b[1;33m,\u001b[0m \u001b[1;32mNone\u001b[0m\u001b[1;33m,\u001b[0m \u001b[0mrenderer\u001b[0m\u001b[1;33m,\u001b[0m \u001b[0mformatter\u001b[0m\u001b[1;33m)\u001b[0m\u001b[1;33m\u001b[0m\u001b[1;33m\u001b[0m\u001b[0m\n\u001b[1;32m--> 229\u001b[1;33m     \u001b[0mout\u001b[0m\u001b[1;33m,\u001b[0m \u001b[0m_\u001b[0m \u001b[1;33m=\u001b[0m \u001b[0mrun\u001b[0m\u001b[1;33m(\u001b[0m\u001b[0mcmd\u001b[0m\u001b[1;33m,\u001b[0m \u001b[0minput\u001b[0m\u001b[1;33m=\u001b[0m\u001b[0mdata\u001b[0m\u001b[1;33m,\u001b[0m \u001b[0mcapture_output\u001b[0m\u001b[1;33m=\u001b[0m\u001b[1;32mTrue\u001b[0m\u001b[1;33m,\u001b[0m \u001b[0mcheck\u001b[0m\u001b[1;33m=\u001b[0m\u001b[1;32mTrue\u001b[0m\u001b[1;33m,\u001b[0m \u001b[0mquiet\u001b[0m\u001b[1;33m=\u001b[0m\u001b[0mquiet\u001b[0m\u001b[1;33m)\u001b[0m\u001b[1;33m\u001b[0m\u001b[1;33m\u001b[0m\u001b[0m\n\u001b[0m\u001b[0;32m    230\u001b[0m     \u001b[1;32mreturn\u001b[0m \u001b[0mout\u001b[0m\u001b[1;33m\u001b[0m\u001b[1;33m\u001b[0m\u001b[0m\n\u001b[0;32m    231\u001b[0m \u001b[1;33m\u001b[0m\u001b[0m\n",
      "\u001b[1;32mC:\\Anaconda\\lib\\site-packages\\graphviz\\backend.py\u001b[0m in \u001b[0;36mrun\u001b[1;34m(cmd, input, capture_output, check, quiet, **kwargs)\u001b[0m\n\u001b[0;32m    160\u001b[0m     \u001b[1;32mexcept\u001b[0m \u001b[0mOSError\u001b[0m \u001b[1;32mas\u001b[0m \u001b[0me\u001b[0m\u001b[1;33m:\u001b[0m\u001b[1;33m\u001b[0m\u001b[1;33m\u001b[0m\u001b[0m\n\u001b[0;32m    161\u001b[0m         \u001b[1;32mif\u001b[0m \u001b[0me\u001b[0m\u001b[1;33m.\u001b[0m\u001b[0merrno\u001b[0m \u001b[1;33m==\u001b[0m \u001b[0merrno\u001b[0m\u001b[1;33m.\u001b[0m\u001b[0mENOENT\u001b[0m\u001b[1;33m:\u001b[0m\u001b[1;33m\u001b[0m\u001b[1;33m\u001b[0m\u001b[0m\n\u001b[1;32m--> 162\u001b[1;33m             \u001b[1;32mraise\u001b[0m \u001b[0mExecutableNotFound\u001b[0m\u001b[1;33m(\u001b[0m\u001b[0mcmd\u001b[0m\u001b[1;33m)\u001b[0m\u001b[1;33m\u001b[0m\u001b[1;33m\u001b[0m\u001b[0m\n\u001b[0m\u001b[0;32m    163\u001b[0m         \u001b[1;32melse\u001b[0m\u001b[1;33m:\u001b[0m\u001b[1;33m\u001b[0m\u001b[1;33m\u001b[0m\u001b[0m\n\u001b[0;32m    164\u001b[0m             \u001b[1;32mraise\u001b[0m\u001b[1;33m\u001b[0m\u001b[1;33m\u001b[0m\u001b[0m\n",
      "\u001b[1;31mExecutableNotFound\u001b[0m: failed to execute ['dot', '-Tpng'], make sure the Graphviz executables are on your systems' PATH"
     ]
    },
    {
     "data": {
      "image/png": "[encoded data removed]",
      "text/plain": [
       "<Figure size 432x288 with 1 Axes>"
      ]
     },
     "metadata": {
      "needs_background": "light"
     },
     "output_type": "display_data"
    }
   ],
   "source": [
    "xgb.plot_tree(bst, num_trees=1)"
   ]
  },
  {
   "cell_type": "code",
   "execution_count": 87,
   "metadata": {},
   "outputs": [
    {
     "name": "stderr",
     "output_type": "stream",
     "text": [
      "C:\\Anaconda\\lib\\site-packages\\sklearn\\linear_model\\logistic.py:432: FutureWarning: Default solver will be changed to 'lbfgs' in 0.22. Specify a solver to silence this warning.\n",
      "  FutureWarning)\n"
     ]
    },
    {
     "ename": "ValueError",
     "evalue": "Input contains NaN, infinity or a value too large for dtype('float64').",
     "output_type": "error",
     "traceback": [
      "\u001b[1;31m---------------------------------------------------------------------------\u001b[0m",
      "\u001b[1;31mValueError\u001b[0m                                Traceback (most recent call last)",
      "\u001b[1;32m<ipython-input-87-b87598fac5f6>\u001b[0m in \u001b[0;36m<module>\u001b[1;34m\u001b[0m\n\u001b[0;32m      1\u001b[0m \u001b[0mlin_reg\u001b[0m \u001b[1;33m=\u001b[0m \u001b[0mLogisticRegression\u001b[0m\u001b[1;33m(\u001b[0m\u001b[1;33m)\u001b[0m\u001b[1;33m\u001b[0m\u001b[1;33m\u001b[0m\u001b[0m\n\u001b[1;32m----> 2\u001b[1;33m \u001b[0mlin_reg\u001b[0m\u001b[1;33m.\u001b[0m\u001b[0mfit\u001b[0m\u001b[1;33m(\u001b[0m\u001b[0mX_train\u001b[0m\u001b[1;33m,\u001b[0m \u001b[0my_train\u001b[0m\u001b[1;33m)\u001b[0m\u001b[1;33m\u001b[0m\u001b[1;33m\u001b[0m\u001b[0m\n\u001b[0m",
      "\u001b[1;32mC:\\Anaconda\\lib\\site-packages\\sklearn\\linear_model\\logistic.py\u001b[0m in \u001b[0;36mfit\u001b[1;34m(self, X, y, sample_weight)\u001b[0m\n\u001b[0;32m   1530\u001b[0m \u001b[1;33m\u001b[0m\u001b[0m\n\u001b[0;32m   1531\u001b[0m         X, y = check_X_y(X, y, accept_sparse='csr', dtype=_dtype, order=\"C\",\n\u001b[1;32m-> 1532\u001b[1;33m                          accept_large_sparse=solver != 'liblinear')\n\u001b[0m\u001b[0;32m   1533\u001b[0m         \u001b[0mcheck_classification_targets\u001b[0m\u001b[1;33m(\u001b[0m\u001b[0my\u001b[0m\u001b[1;33m)\u001b[0m\u001b[1;33m\u001b[0m\u001b[1;33m\u001b[0m\u001b[0m\n\u001b[0;32m   1534\u001b[0m         \u001b[0mself\u001b[0m\u001b[1;33m.\u001b[0m\u001b[0mclasses_\u001b[0m \u001b[1;33m=\u001b[0m \u001b[0mnp\u001b[0m\u001b[1;33m.\u001b[0m\u001b[0munique\u001b[0m\u001b[1;33m(\u001b[0m\u001b[0my\u001b[0m\u001b[1;33m)\u001b[0m\u001b[1;33m\u001b[0m\u001b[1;33m\u001b[0m\u001b[0m\n",
      "\u001b[1;32mC:\\Anaconda\\lib\\site-packages\\sklearn\\utils\\validation.py\u001b[0m in \u001b[0;36mcheck_X_y\u001b[1;34m(X, y, accept_sparse, accept_large_sparse, dtype, order, copy, force_all_finite, ensure_2d, allow_nd, multi_output, ensure_min_samples, ensure_min_features, y_numeric, warn_on_dtype, estimator)\u001b[0m\n\u001b[0;32m    717\u001b[0m                     \u001b[0mensure_min_features\u001b[0m\u001b[1;33m=\u001b[0m\u001b[0mensure_min_features\u001b[0m\u001b[1;33m,\u001b[0m\u001b[1;33m\u001b[0m\u001b[1;33m\u001b[0m\u001b[0m\n\u001b[0;32m    718\u001b[0m                     \u001b[0mwarn_on_dtype\u001b[0m\u001b[1;33m=\u001b[0m\u001b[0mwarn_on_dtype\u001b[0m\u001b[1;33m,\u001b[0m\u001b[1;33m\u001b[0m\u001b[1;33m\u001b[0m\u001b[0m\n\u001b[1;32m--> 719\u001b[1;33m                     estimator=estimator)\n\u001b[0m\u001b[0;32m    720\u001b[0m     \u001b[1;32mif\u001b[0m \u001b[0mmulti_output\u001b[0m\u001b[1;33m:\u001b[0m\u001b[1;33m\u001b[0m\u001b[1;33m\u001b[0m\u001b[0m\n\u001b[0;32m    721\u001b[0m         y = check_array(y, 'csr', force_all_finite=True, ensure_2d=False,\n",
      "\u001b[1;32mC:\\Anaconda\\lib\\site-packages\\sklearn\\utils\\validation.py\u001b[0m in \u001b[0;36mcheck_array\u001b[1;34m(array, accept_sparse, accept_large_sparse, dtype, order, copy, force_all_finite, ensure_2d, allow_nd, ensure_min_samples, ensure_min_features, warn_on_dtype, estimator)\u001b[0m\n\u001b[0;32m    540\u001b[0m         \u001b[1;32mif\u001b[0m \u001b[0mforce_all_finite\u001b[0m\u001b[1;33m:\u001b[0m\u001b[1;33m\u001b[0m\u001b[1;33m\u001b[0m\u001b[0m\n\u001b[0;32m    541\u001b[0m             _assert_all_finite(array,\n\u001b[1;32m--> 542\u001b[1;33m                                allow_nan=force_all_finite == 'allow-nan')\n\u001b[0m\u001b[0;32m    543\u001b[0m \u001b[1;33m\u001b[0m\u001b[0m\n\u001b[0;32m    544\u001b[0m     \u001b[1;32mif\u001b[0m \u001b[0mensure_min_samples\u001b[0m \u001b[1;33m>\u001b[0m \u001b[1;36m0\u001b[0m\u001b[1;33m:\u001b[0m\u001b[1;33m\u001b[0m\u001b[1;33m\u001b[0m\u001b[0m\n",
      "\u001b[1;32mC:\\Anaconda\\lib\\site-packages\\sklearn\\utils\\validation.py\u001b[0m in \u001b[0;36m_assert_all_finite\u001b[1;34m(X, allow_nan)\u001b[0m\n\u001b[0;32m     54\u001b[0m                 not allow_nan and not np.isfinite(X).all()):\n\u001b[0;32m     55\u001b[0m             \u001b[0mtype_err\u001b[0m \u001b[1;33m=\u001b[0m \u001b[1;34m'infinity'\u001b[0m \u001b[1;32mif\u001b[0m \u001b[0mallow_nan\u001b[0m \u001b[1;32melse\u001b[0m \u001b[1;34m'NaN, infinity'\u001b[0m\u001b[1;33m\u001b[0m\u001b[1;33m\u001b[0m\u001b[0m\n\u001b[1;32m---> 56\u001b[1;33m             \u001b[1;32mraise\u001b[0m \u001b[0mValueError\u001b[0m\u001b[1;33m(\u001b[0m\u001b[0mmsg_err\u001b[0m\u001b[1;33m.\u001b[0m\u001b[0mformat\u001b[0m\u001b[1;33m(\u001b[0m\u001b[0mtype_err\u001b[0m\u001b[1;33m,\u001b[0m \u001b[0mX\u001b[0m\u001b[1;33m.\u001b[0m\u001b[0mdtype\u001b[0m\u001b[1;33m)\u001b[0m\u001b[1;33m)\u001b[0m\u001b[1;33m\u001b[0m\u001b[1;33m\u001b[0m\u001b[0m\n\u001b[0m\u001b[0;32m     57\u001b[0m     \u001b[1;31m# for object dtype data, we only check for NaNs (GH-13254)\u001b[0m\u001b[1;33m\u001b[0m\u001b[1;33m\u001b[0m\u001b[1;33m\u001b[0m\u001b[0m\n\u001b[0;32m     58\u001b[0m     \u001b[1;32melif\u001b[0m \u001b[0mX\u001b[0m\u001b[1;33m.\u001b[0m\u001b[0mdtype\u001b[0m \u001b[1;33m==\u001b[0m \u001b[0mnp\u001b[0m\u001b[1;33m.\u001b[0m\u001b[0mdtype\u001b[0m\u001b[1;33m(\u001b[0m\u001b[1;34m'object'\u001b[0m\u001b[1;33m)\u001b[0m \u001b[1;32mand\u001b[0m \u001b[1;32mnot\u001b[0m \u001b[0mallow_nan\u001b[0m\u001b[1;33m:\u001b[0m\u001b[1;33m\u001b[0m\u001b[1;33m\u001b[0m\u001b[0m\n",
      "\u001b[1;31mValueError\u001b[0m: Input contains NaN, infinity or a value too large for dtype('float64')."
     ]
    }
   ],
   "source": [
    "lin_reg = LogisticRegression()\n",
    "lin_reg.fit(X_train, y_train)"
   ]
  },
  {
   "cell_type": "code",
   "execution_count": 22,
   "metadata": {},
   "outputs": [],
   "source": [
    "y_pred_prob = lin_reg.predict_proba(X_test)\n",
    "y_pred = lin_reg.predict(X_test)"
   ]
  },
  {
   "cell_type": "code",
   "execution_count": 23,
   "metadata": {},
   "outputs": [
    {
     "data": {
      "image/png": "[encoded data removed]",
      "text/plain": [
       "<Figure size 432x288 with 1 Axes>"
      ]
     },
     "metadata": {
      "needs_background": "light"
     },
     "output_type": "display_data"
    }
   ],
   "source": [
    "y_pred_prob_plot = [y_pred_prob[i][1] for i in range(len(y_pred_prob))]\n",
    "plt.hist(y_pred_prob_plot, bins=100)\n",
    "plt.show()"
   ]
  },
  {
   "cell_type": "code",
   "execution_count": 24,
   "metadata": {},
   "outputs": [
    {
     "name": "stderr",
     "output_type": "stream",
     "text": [
      "C:\\Anaconda\\lib\\site-packages\\sklearn\\linear_model\\logistic.py:432: FutureWarning: Default solver will be changed to 'lbfgs' in 0.22. Specify a solver to silence this warning.\n",
      "  FutureWarning)\n",
      "C:\\Anaconda\\lib\\site-packages\\sklearn\\linear_model\\logistic.py:432: FutureWarning: Default solver will be changed to 'lbfgs' in 0.22. Specify a solver to silence this warning.\n",
      "  FutureWarning)\n",
      "C:\\Anaconda\\lib\\site-packages\\sklearn\\linear_model\\logistic.py:432: FutureWarning: Default solver will be changed to 'lbfgs' in 0.22. Specify a solver to silence this warning.\n",
      "  FutureWarning)\n",
      "C:\\Anaconda\\lib\\site-packages\\sklearn\\linear_model\\logistic.py:432: FutureWarning: Default solver will be changed to 'lbfgs' in 0.22. Specify a solver to silence this warning.\n",
      "  FutureWarning)\n",
      "C:\\Anaconda\\lib\\site-packages\\sklearn\\linear_model\\logistic.py:432: FutureWarning: Default solver will be changed to 'lbfgs' in 0.22. Specify a solver to silence this warning.\n",
      "  FutureWarning)\n"
     ]
    }
   ],
   "source": [
    "cv = cross_val_score(lin_reg, data_X, y, cv = 5, scoring = 'f1')"
   ]
  },
  {
   "cell_type": "code",
   "execution_count": 25,
   "metadata": {},
   "outputs": [
    {
     "name": "stdout",
     "output_type": "stream",
     "text": [
      "avg. accuracy = 0.3798 std. of accuracy = 0.0063 std. coef = 0.0166\n"
     ]
    }
   ],
   "source": [
    "print(\"avg. accuracy = \"+str(round(np.mean(cv),4))+\n",
    "      \" std. of accuracy = \"+str(round(np.std(cv),4))+\n",
    "      \" std. coef = \"+str(round(np.std(cv)/np.mean(cv),4)))"
   ]
  },
  {
   "cell_type": "code",
   "execution_count": 26,
   "metadata": {},
   "outputs": [
    {
     "name": "stdout",
     "output_type": "stream",
     "text": [
      "[[4345  237]\n",
      " [1164  428]]\n"
     ]
    }
   ],
   "source": [
    "print(cm(y_true = y_test, y_pred = y_pred))"
   ]
  },
  {
   "cell_type": "code",
   "execution_count": 59,
   "metadata": {},
   "outputs": [
    {
     "data": {
      "text/plain": [
       "['x0_0.0',\n",
       " 'x0_1.0',\n",
       " 'x0_2.0',\n",
       " 'x0_3.0',\n",
       " 'x1_0.0',\n",
       " 'x1_1.0',\n",
       " 'x1_2.0',\n",
       " 'x1_3.0',\n",
       " 'x2_1.0',\n",
       " 'x2_2.0',\n",
       " 'x2_3.0',\n",
       " 'x2_4.0',\n",
       " 'x2_5.0',\n",
       " 'x2_6.0',\n",
       " 'x2_7.0',\n",
       " 'drop']"
      ]
     },
     "execution_count": 59,
     "metadata": {},
     "output_type": "execute_result"
    }
   ],
   "source": [
    "get_column_names_from_ColumnTransformer(transformer)"
   ]
  },
  {
   "cell_type": "code",
   "execution_count": 10,
   "metadata": {},
   "outputs": [
    {
     "data": {
      "text/html": [
       "<div>\n",
       "<style scoped>\n",
       "    .dataframe tbody tr th:only-of-type {\n",
       "        vertical-align: middle;\n",
       "    }\n",
       "\n",
       "    .dataframe tbody tr th {\n",
       "        vertical-align: top;\n",
       "    }\n",
       "\n",
       "    .dataframe thead th {\n",
       "        text-align: right;\n",
       "    }\n",
       "</style>\n",
       "<table border=\"1\" class=\"dataframe\">\n",
       "  <thead>\n",
       "    <tr style=\"text-align: right;\">\n",
       "      <th></th>\n",
       "      <th>cid</th>\n",
       "      <th>aid</th>\n",
       "      <th>product</th>\n",
       "      <th>period</th>\n",
       "      <th>act_age</th>\n",
       "      <th>act_cc</th>\n",
       "      <th>act_loaninc</th>\n",
       "      <th>app_income</th>\n",
       "      <th>app_loan_amount</th>\n",
       "      <th>app_n_installments</th>\n",
       "      <th>...</th>\n",
       "      <th>act_CAll_Acp5y</th>\n",
       "      <th>act_CAll_All5y</th>\n",
       "      <th>APP_CHAR_GENDER</th>\n",
       "      <th>APP_CHAR_CITY</th>\n",
       "      <th>APP_CHAR_BRANCH</th>\n",
       "      <th>APP_CHAR_JOB_CODE</th>\n",
       "      <th>APP_CHAR_CARS</th>\n",
       "      <th>APP_CHAR_HOME_STATUS</th>\n",
       "      <th>APP_CHAR_MARITAL_STATUS</th>\n",
       "      <th>default3</th>\n",
       "    </tr>\n",
       "  </thead>\n",
       "  <tbody>\n",
       "    <tr>\n",
       "      <td>0</td>\n",
       "      <td>0000001237</td>\n",
       "      <td>css2006010100123</td>\n",
       "      <td>css</td>\n",
       "      <td>200601</td>\n",
       "      <td>84.0</td>\n",
       "      <td>0.577685</td>\n",
       "      <td>2.606882</td>\n",
       "      <td>1918.0</td>\n",
       "      <td>5000.0</td>\n",
       "      <td>24.0</td>\n",
       "      <td>...</td>\n",
       "      <td>7.0</td>\n",
       "      <td>15.0</td>\n",
       "      <td>1.0</td>\n",
       "      <td>0.0</td>\n",
       "      <td>0.0</td>\n",
       "      <td>4.0</td>\n",
       "      <td>1.0</td>\n",
       "      <td>0.0</td>\n",
       "      <td>2.0</td>\n",
       "      <td>0</td>\n",
       "    </tr>\n",
       "    <tr>\n",
       "      <td>1</td>\n",
       "      <td>0000003380</td>\n",
       "      <td>css2006010100350</td>\n",
       "      <td>css</td>\n",
       "      <td>200601</td>\n",
       "      <td>87.0</td>\n",
       "      <td>0.499747</td>\n",
       "      <td>2.529084</td>\n",
       "      <td>1977.0</td>\n",
       "      <td>5000.0</td>\n",
       "      <td>24.0</td>\n",
       "      <td>...</td>\n",
       "      <td>14.0</td>\n",
       "      <td>15.0</td>\n",
       "      <td>1.0</td>\n",
       "      <td>3.0</td>\n",
       "      <td>0.0</td>\n",
       "      <td>4.0</td>\n",
       "      <td>0.0</td>\n",
       "      <td>0.0</td>\n",
       "      <td>1.0</td>\n",
       "      <td>0</td>\n",
       "    </tr>\n",
       "    <tr>\n",
       "      <td>2</td>\n",
       "      <td>0000003467</td>\n",
       "      <td>css2006010100357</td>\n",
       "      <td>css</td>\n",
       "      <td>200601</td>\n",
       "      <td>75.0</td>\n",
       "      <td>0.584158</td>\n",
       "      <td>4.125413</td>\n",
       "      <td>1212.0</td>\n",
       "      <td>5000.0</td>\n",
       "      <td>24.0</td>\n",
       "      <td>...</td>\n",
       "      <td>16.0</td>\n",
       "      <td>16.0</td>\n",
       "      <td>1.0</td>\n",
       "      <td>1.0</td>\n",
       "      <td>0.0</td>\n",
       "      <td>4.0</td>\n",
       "      <td>1.0</td>\n",
       "      <td>0.0</td>\n",
       "      <td>1.0</td>\n",
       "      <td>0</td>\n",
       "    </tr>\n",
       "    <tr>\n",
       "      <td>3</td>\n",
       "      <td>0000003620</td>\n",
       "      <td>css2006010100367</td>\n",
       "      <td>css</td>\n",
       "      <td>200601</td>\n",
       "      <td>94.0</td>\n",
       "      <td>0.602687</td>\n",
       "      <td>4.798464</td>\n",
       "      <td>1042.0</td>\n",
       "      <td>5000.0</td>\n",
       "      <td>24.0</td>\n",
       "      <td>...</td>\n",
       "      <td>14.0</td>\n",
       "      <td>15.0</td>\n",
       "      <td>1.0</td>\n",
       "      <td>0.0</td>\n",
       "      <td>0.0</td>\n",
       "      <td>4.0</td>\n",
       "      <td>1.0</td>\n",
       "      <td>0.0</td>\n",
       "      <td>0.0</td>\n",
       "      <td>0</td>\n",
       "    </tr>\n",
       "    <tr>\n",
       "      <td>4</td>\n",
       "      <td>0000003621</td>\n",
       "      <td>css2006010100368</td>\n",
       "      <td>css</td>\n",
       "      <td>200601</td>\n",
       "      <td>70.0</td>\n",
       "      <td>0.604592</td>\n",
       "      <td>3.188776</td>\n",
       "      <td>1568.0</td>\n",
       "      <td>5000.0</td>\n",
       "      <td>24.0</td>\n",
       "      <td>...</td>\n",
       "      <td>15.0</td>\n",
       "      <td>15.0</td>\n",
       "      <td>1.0</td>\n",
       "      <td>0.0</td>\n",
       "      <td>0.0</td>\n",
       "      <td>4.0</td>\n",
       "      <td>1.0</td>\n",
       "      <td>0.0</td>\n",
       "      <td>1.0</td>\n",
       "      <td>0</td>\n",
       "    </tr>\n",
       "  </tbody>\n",
       "</table>\n",
       "<p>5 rows × 85 columns</p>\n",
       "</div>"
      ],
      "text/plain": [
       "          cid               aid product  period  act_age    act_cc  \\\n",
       "0  0000001237  css2006010100123     css  200601     84.0  0.577685   \n",
       "1  0000003380  css2006010100350     css  200601     87.0  0.499747   \n",
       "2  0000003467  css2006010100357     css  200601     75.0  0.584158   \n",
       "3  0000003620  css2006010100367     css  200601     94.0  0.602687   \n",
       "4  0000003621  css2006010100368     css  200601     70.0  0.604592   \n",
       "\n",
       "   act_loaninc  app_income  app_loan_amount  app_n_installments  ...  \\\n",
       "0     2.606882      1918.0           5000.0                24.0  ...   \n",
       "1     2.529084      1977.0           5000.0                24.0  ...   \n",
       "2     4.125413      1212.0           5000.0                24.0  ...   \n",
       "3     4.798464      1042.0           5000.0                24.0  ...   \n",
       "4     3.188776      1568.0           5000.0                24.0  ...   \n",
       "\n",
       "   act_CAll_Acp5y  act_CAll_All5y  APP_CHAR_GENDER  APP_CHAR_CITY  \\\n",
       "0             7.0            15.0              1.0            0.0   \n",
       "1            14.0            15.0              1.0            3.0   \n",
       "2            16.0            16.0              1.0            1.0   \n",
       "3            14.0            15.0              1.0            0.0   \n",
       "4            15.0            15.0              1.0            0.0   \n",
       "\n",
       "   APP_CHAR_BRANCH  APP_CHAR_JOB_CODE  APP_CHAR_CARS  APP_CHAR_HOME_STATUS  \\\n",
       "0              0.0                4.0            1.0                   0.0   \n",
       "1              0.0                4.0            0.0                   0.0   \n",
       "2              0.0                4.0            1.0                   0.0   \n",
       "3              0.0                4.0            1.0                   0.0   \n",
       "4              0.0                4.0            1.0                   0.0   \n",
       "\n",
       "   APP_CHAR_MARITAL_STATUS  default3  \n",
       "0                      2.0         0  \n",
       "1                      1.0         0  \n",
       "2                      1.0         0  \n",
       "3                      0.0         0  \n",
       "4                      1.0         0  \n",
       "\n",
       "[5 rows x 85 columns]"
      ]
     },
     "execution_count": 10,
     "metadata": {},
     "output_type": "execute_result"
    }
   ],
   "source": [
    "data_merged_nomisscol.head()"
   ]
  },
  {
   "cell_type": "code",
   "execution_count": null,
   "metadata": {},
   "outputs": [],
   "source": []
  },
  {
   "cell_type": "code",
   "execution_count": null,
   "metadata": {},
   "outputs": [],
   "source": []
  },
  {
   "cell_type": "code",
   "execution_count": null,
   "metadata": {},
   "outputs": [],
   "source": []
  },
  {
   "cell_type": "code",
   "execution_count": null,
   "metadata": {},
   "outputs": [],
   "source": []
  },
  {
   "cell_type": "code",
   "execution_count": null,
   "metadata": {},
   "outputs": [],
   "source": []
  },
  {
   "cell_type": "code",
   "execution_count": null,
   "metadata": {},
   "outputs": [],
   "source": []
  },
  {
   "cell_type": "code",
   "execution_count": null,
   "metadata": {},
   "outputs": [],
   "source": []
  },
  {
   "cell_type": "code",
   "execution_count": 173,
   "metadata": {},
   "outputs": [
    {
     "data": {
      "text/plain": [
       "agr3_Mean_CMaxA_Due     0.588670\n",
       "agr3_Max_CMaxA_Due      0.588670\n",
       "agr3_Min_CMaxA_Due      0.588670\n",
       "act_CMaxA_Days          0.587548\n",
       "act_cus_active          0.582405\n",
       "                          ...   \n",
       "APP_CHAR_BRANCH         0.000000\n",
       "APP_CHAR_JOB_CODE       0.000000\n",
       "APP_CHAR_CARS           0.000000\n",
       "APP_CHAR_HOME_STATUS    0.000000\n",
       "cid                     0.000000\n",
       "Length: 85, dtype: float64"
      ]
     },
     "execution_count": 173,
     "metadata": {},
     "output_type": "execute_result"
    }
   ],
   "source": [
    "data_merged_nomiss.isna().mean().sort_values(ascending=False)"
   ]
  },
  {
   "cell_type": "code",
   "execution_count": 28,
   "metadata": {},
   "outputs": [
    {
     "ename": "NameError",
     "evalue": "name 'data_merged_nomiss' is not defined",
     "output_type": "error",
     "traceback": [
      "\u001b[1;31m---------------------------------------------------------------------------\u001b[0m",
      "\u001b[1;31mNameError\u001b[0m                                 Traceback (most recent call last)",
      "\u001b[1;32m<ipython-input-28-495cf0da7cd0>\u001b[0m in \u001b[0;36m<module>\u001b[1;34m\u001b[0m\n\u001b[1;32m----> 1\u001b[1;33m \u001b[0mplt\u001b[0m\u001b[1;33m.\u001b[0m\u001b[0mhist\u001b[0m\u001b[1;33m(\u001b[0m\u001b[0mdata_merged_nomiss\u001b[0m\u001b[1;33m.\u001b[0m\u001b[0misna\u001b[0m\u001b[1;33m(\u001b[0m\u001b[1;33m)\u001b[0m\u001b[1;33m.\u001b[0m\u001b[0mmean\u001b[0m\u001b[1;33m(\u001b[0m\u001b[1;33m)\u001b[0m\u001b[1;33m.\u001b[0m\u001b[0msort_values\u001b[0m\u001b[1;33m(\u001b[0m\u001b[0mascending\u001b[0m\u001b[1;33m=\u001b[0m\u001b[1;32mFalse\u001b[0m\u001b[1;33m)\u001b[0m\u001b[1;33m,\u001b[0m \u001b[0mbins\u001b[0m\u001b[1;33m=\u001b[0m\u001b[1;36m100\u001b[0m\u001b[1;33m)\u001b[0m\u001b[1;33m\u001b[0m\u001b[1;33m\u001b[0m\u001b[0m\n\u001b[0m\u001b[0;32m      2\u001b[0m \u001b[0mplt\u001b[0m\u001b[1;33m.\u001b[0m\u001b[0mshow\u001b[0m\u001b[1;33m(\u001b[0m\u001b[1;33m)\u001b[0m\u001b[1;33m\u001b[0m\u001b[1;33m\u001b[0m\u001b[0m\n",
      "\u001b[1;31mNameError\u001b[0m: name 'data_merged_nomiss' is not defined"
     ]
    }
   ],
   "source": [
    "plt.hist(data_merged_nomiss.isna().mean().sort_values(ascending=False), bins=100)\n",
    "plt.show()"
   ]
  },
  {
   "cell_type": "code",
   "execution_count": 14,
   "metadata": {},
   "outputs": [
    {
     "data": {
      "image/png": "[encoded data removed]",
      "text/plain": [
       "<Figure size 432x288 with 1 Axes>"
      ]
     },
     "metadata": {
      "needs_background": "light"
     },
     "output_type": "display_data"
    }
   ],
   "source": [
    "plt.hist(x = unique_count(data_merged_nomiss)['Num_Unique'], bins = 10000)\n",
    "plt.xlim(0, 100)\n",
    "plt.show()"
   ]
  },
  {
   "cell_type": "code",
   "execution_count": 162,
   "metadata": {},
   "outputs": [
    {
     "data": {
      "text/plain": [
       "79328"
      ]
     },
     "execution_count": 162,
     "metadata": {},
     "output_type": "execute_result"
    }
   ],
   "source": [
    "len(data_merged)"
   ]
  },
  {
   "cell_type": "code",
   "execution_count": null,
   "metadata": {},
   "outputs": [],
   "source": []
  }
 ],
 "metadata": {
  "kernelspec": {
   "display_name": "Python 3",
   "language": "python",
   "name": "python3"
  },
  "language_info": {
   "codemirror_mode": {
    "name": "ipython",
    "version": 3
   },
   "file_extension": ".py",
   "mimetype": "text/x-python",
   "name": "python",
   "nbconvert_exporter": "python",
   "pygments_lexer": "ipython3",
   "version": "3.7.4"
  }
 },
 "nbformat": 4,
 "nbformat_minor": 2
}
